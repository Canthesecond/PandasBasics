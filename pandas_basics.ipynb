{
 "cells": [
  {
   "cell_type": "markdown",
   "metadata": {},
   "source": [
    "# Import "
   ]
  },
  {
   "cell_type": "code",
   "execution_count": 3,
   "metadata": {},
   "outputs": [],
   "source": [
    "import pandas as pd \n",
    "import os\n",
    "\n",
    "pwd = os.getcwd()\n",
    "\n",
    "datasat_1 = pd.read_csv(pwd+ \"/ filepath.csv\")      #Reads the csv into Python"
   ]
  },
  {
   "cell_type": "markdown",
   "metadata": {},
   "source": [
    "# Column"
   ]
  },
  {
   "cell_type": "code",
   "execution_count": null,
   "metadata": {},
   "outputs": [],
   "source": [
    "datasat_1[\"New_Column\"] = 1     #Specifying a uniform value for every row \n",
    "\n",
    "datasat_1[\"New_Column2\"] = range(29)     #A list of values that is as long as the DataFrame\n",
    "\n",
    "datasat_1[\"Added_Output\"] = datasat_1[\"New_Column\"] + datasat_1[\"New_Column2\"]\n",
    "\n",
    "datasat_1 = datasat_1.drop(columns = \"Column1\")     #Taking columns and add their values together\n",
    "\n",
    "datasat_1.drop(columns = \"Column1\", inplace = True)     #inplace argument deletes the copy which \"drop\" argument creates"
   ]
  },
  {
   "cell_type": "markdown",
   "metadata": {},
   "source": [
    "# Rows"
   ]
  },
  {
   "cell_type": "code",
   "execution_count": null,
   "metadata": {},
   "outputs": [],
   "source": [
    "datasat_1.loc[:,\"Column1\"]      #Select all rows in the Column1\n",
    "\n",
    "datasat_1.loc[0:4,\"Column1\"]    #Select rows 0 through 4 (including 4)\n",
    "\n",
    "datasat_1.loc[:,[\"Column1\",\"Column2\"]]      #Select all rows in the column1 and column2\n",
    "\n",
    "\n",
    "datasat_1.iloc[:, 1]      #Select all rows in the Column1\n",
    "\n",
    "datasat_1.iloc[0:4, 1]      # Select rows 0 through 4 excluding 4 \n",
    "\n",
    "datasat_1.iloc[:, 0:2]      # Select all rows in Column1 and Column2"
   ]
  },
  {
   "cell_type": "code",
   "execution_count": 11,
   "metadata": {},
   "outputs": [
    {
     "ename": "TypeError",
     "evalue": "read_csv() got an unexpected keyword argument 'nrow'",
     "output_type": "error",
     "traceback": [
      "\u001b[1;31m---------------------------------------------------------------------------\u001b[0m",
      "\u001b[1;31mTypeError\u001b[0m                                 Traceback (most recent call last)",
      "\u001b[1;32mc:\\virtual_environment_py\\Python\\PANDAS\\pandas_basics.ipynb Cell 7'\u001b[0m in \u001b[0;36m<module>\u001b[1;34m\u001b[0m\n\u001b[1;32m----> <a href='vscode-notebook-cell:/c%3A/virtual_environment_py/Python/PANDAS/pandas_basics.ipynb#ch0000008?line=0'>1</a>\u001b[0m netflix \u001b[39m=\u001b[39m pd\u001b[39m.\u001b[39;49mread_csv(pwd\u001b[39m+\u001b[39;49m \u001b[39m\"\u001b[39;49m\u001b[39m/netflix_titles.csv\u001b[39;49m\u001b[39m\"\u001b[39;49m, nrow\u001b[39m=\u001b[39;49m\u001b[39m10\u001b[39;49m)\n\u001b[0;32m      <a href='vscode-notebook-cell:/c%3A/virtual_environment_py/Python/PANDAS/pandas_basics.ipynb#ch0000008?line=1'>2</a>\u001b[0m netflix\n",
      "File \u001b[1;32m~\\miniconda3\\lib\\site-packages\\pandas\\util\\_decorators.py:311\u001b[0m, in \u001b[0;36mdeprecate_nonkeyword_arguments.<locals>.decorate.<locals>.wrapper\u001b[1;34m(*args, **kwargs)\u001b[0m\n\u001b[0;32m    <a href='file:///~/miniconda3/lib/site-packages/pandas/util/_decorators.py?line=304'>305</a>\u001b[0m \u001b[39mif\u001b[39;00m \u001b[39mlen\u001b[39m(args) \u001b[39m>\u001b[39m num_allow_args:\n\u001b[0;32m    <a href='file:///~/miniconda3/lib/site-packages/pandas/util/_decorators.py?line=305'>306</a>\u001b[0m     warnings\u001b[39m.\u001b[39mwarn(\n\u001b[0;32m    <a href='file:///~/miniconda3/lib/site-packages/pandas/util/_decorators.py?line=306'>307</a>\u001b[0m         msg\u001b[39m.\u001b[39mformat(arguments\u001b[39m=\u001b[39marguments),\n\u001b[0;32m    <a href='file:///~/miniconda3/lib/site-packages/pandas/util/_decorators.py?line=307'>308</a>\u001b[0m         \u001b[39mFutureWarning\u001b[39;00m,\n\u001b[0;32m    <a href='file:///~/miniconda3/lib/site-packages/pandas/util/_decorators.py?line=308'>309</a>\u001b[0m         stacklevel\u001b[39m=\u001b[39mstacklevel,\n\u001b[0;32m    <a href='file:///~/miniconda3/lib/site-packages/pandas/util/_decorators.py?line=309'>310</a>\u001b[0m     )\n\u001b[1;32m--> <a href='file:///~/miniconda3/lib/site-packages/pandas/util/_decorators.py?line=310'>311</a>\u001b[0m \u001b[39mreturn\u001b[39;00m func(\u001b[39m*\u001b[39margs, \u001b[39m*\u001b[39m\u001b[39m*\u001b[39mkwargs)\n",
      "\u001b[1;31mTypeError\u001b[0m: read_csv() got an unexpected keyword argument 'nrow'"
     ]
    }
   ],
   "source": [
    "netflix = pd.read_csv(pwd + \"/netflix_titles.csv\")\n",
    "netflix"
   ]
  },
  {
   "cell_type": "markdown",
   "metadata": {},
   "source": [
    "# List Out Columns"
   ]
  },
  {
   "cell_type": "code",
   "execution_count": 6,
   "metadata": {},
   "outputs": [
    {
     "data": {
      "text/plain": [
       "['show_id',\n",
       " 'type',\n",
       " 'title',\n",
       " 'director',\n",
       " 'cast',\n",
       " 'country',\n",
       " 'date_added',\n",
       " 'release_year',\n",
       " 'rating',\n",
       " 'duration',\n",
       " 'listed_in',\n",
       " 'description']"
      ]
     },
     "execution_count": 6,
     "metadata": {},
     "output_type": "execute_result"
    }
   ],
   "source": [
    "\n",
    "list(netflix.columns)"
   ]
  },
  {
   "cell_type": "markdown",
   "metadata": {},
   "source": [
    "# Basic Descriptive Statistic"
   ]
  },
  {
   "cell_type": "code",
   "execution_count": 12,
   "metadata": {},
   "outputs": [
    {
     "data": {
      "text/html": [
       "<div>\n",
       "<style scoped>\n",
       "    .dataframe tbody tr th:only-of-type {\n",
       "        vertical-align: middle;\n",
       "    }\n",
       "\n",
       "    .dataframe tbody tr th {\n",
       "        vertical-align: top;\n",
       "    }\n",
       "\n",
       "    .dataframe thead th {\n",
       "        text-align: right;\n",
       "    }\n",
       "</style>\n",
       "<table border=\"1\" class=\"dataframe\">\n",
       "  <thead>\n",
       "    <tr style=\"text-align: right;\">\n",
       "      <th></th>\n",
       "      <th>release_year</th>\n",
       "    </tr>\n",
       "  </thead>\n",
       "  <tbody>\n",
       "    <tr>\n",
       "      <th>count</th>\n",
       "      <td>7787.000000</td>\n",
       "    </tr>\n",
       "    <tr>\n",
       "      <th>mean</th>\n",
       "      <td>2013.932580</td>\n",
       "    </tr>\n",
       "    <tr>\n",
       "      <th>std</th>\n",
       "      <td>8.757395</td>\n",
       "    </tr>\n",
       "    <tr>\n",
       "      <th>min</th>\n",
       "      <td>1925.000000</td>\n",
       "    </tr>\n",
       "    <tr>\n",
       "      <th>25%</th>\n",
       "      <td>2013.000000</td>\n",
       "    </tr>\n",
       "    <tr>\n",
       "      <th>50%</th>\n",
       "      <td>2017.000000</td>\n",
       "    </tr>\n",
       "    <tr>\n",
       "      <th>75%</th>\n",
       "      <td>2018.000000</td>\n",
       "    </tr>\n",
       "    <tr>\n",
       "      <th>max</th>\n",
       "      <td>2021.000000</td>\n",
       "    </tr>\n",
       "  </tbody>\n",
       "</table>\n",
       "</div>"
      ],
      "text/plain": [
       "       release_year\n",
       "count   7787.000000\n",
       "mean    2013.932580\n",
       "std        8.757395\n",
       "min     1925.000000\n",
       "25%     2013.000000\n",
       "50%     2017.000000\n",
       "75%     2018.000000\n",
       "max     2021.000000"
      ]
     },
     "execution_count": 12,
     "metadata": {},
     "output_type": "execute_result"
    }
   ],
   "source": [
    "netflix.describe()"
   ]
  },
  {
   "cell_type": "markdown",
   "metadata": {},
   "source": []
  },
  {
   "cell_type": "markdown",
   "metadata": {},
   "source": [
    "# Unique Values"
   ]
  },
  {
   "cell_type": "code",
   "execution_count": 14,
   "metadata": {},
   "outputs": [
    {
     "data": {
      "text/plain": [
       "array(['TV Show', 'Movie'], dtype=object)"
      ]
     },
     "execution_count": 14,
     "metadata": {},
     "output_type": "execute_result"
    }
   ],
   "source": [
    "netflix[\"type\"].unique()"
   ]
  },
  {
   "cell_type": "markdown",
   "metadata": {},
   "source": [
    "# Filtering"
   ]
  },
  {
   "cell_type": "code",
   "execution_count": 18,
   "metadata": {},
   "outputs": [
    {
     "data": {
      "text/html": [
       "<div>\n",
       "<style scoped>\n",
       "    .dataframe tbody tr th:only-of-type {\n",
       "        vertical-align: middle;\n",
       "    }\n",
       "\n",
       "    .dataframe tbody tr th {\n",
       "        vertical-align: top;\n",
       "    }\n",
       "\n",
       "    .dataframe thead th {\n",
       "        text-align: right;\n",
       "    }\n",
       "</style>\n",
       "<table border=\"1\" class=\"dataframe\">\n",
       "  <thead>\n",
       "    <tr style=\"text-align: right;\">\n",
       "      <th></th>\n",
       "      <th>show_id</th>\n",
       "      <th>type</th>\n",
       "      <th>title</th>\n",
       "      <th>director</th>\n",
       "      <th>cast</th>\n",
       "      <th>country</th>\n",
       "      <th>date_added</th>\n",
       "      <th>release_year</th>\n",
       "      <th>rating</th>\n",
       "      <th>duration</th>\n",
       "      <th>listed_in</th>\n",
       "      <th>description</th>\n",
       "    </tr>\n",
       "  </thead>\n",
       "  <tbody>\n",
       "    <tr>\n",
       "      <th>2093</th>\n",
       "      <td>s2094</td>\n",
       "      <td>Movie</td>\n",
       "      <td>Fakkah Fuzz: Almost Banned</td>\n",
       "      <td>Michael McKay</td>\n",
       "      <td>Fakkah Fuzz</td>\n",
       "      <td>Singapore</td>\n",
       "      <td>January 26, 2018</td>\n",
       "      <td>2018</td>\n",
       "      <td>TV-MA</td>\n",
       "      <td>61 min</td>\n",
       "      <td>Stand-Up Comedy</td>\n",
       "      <td>Stand-up comic Fakkah Fuzz mines cross-cultura...</td>\n",
       "    </tr>\n",
       "    <tr>\n",
       "      <th>2956</th>\n",
       "      <td>s2957</td>\n",
       "      <td>Movie</td>\n",
       "      <td>Imperfect</td>\n",
       "      <td>Steve Cheng</td>\n",
       "      <td>Edwin Goh, Ian Fang Weijie, Phua Yida, Kimberl...</td>\n",
       "      <td>Singapore</td>\n",
       "      <td>December 20, 2018</td>\n",
       "      <td>2012</td>\n",
       "      <td>TV-MA</td>\n",
       "      <td>95 min</td>\n",
       "      <td>Action &amp; Adventure, International Movies</td>\n",
       "      <td>After a brawl lands him in a Boys’ Home, a tee...</td>\n",
       "    </tr>\n",
       "    <tr>\n",
       "      <th>3528</th>\n",
       "      <td>s3529</td>\n",
       "      <td>Movie</td>\n",
       "      <td>Lang Tong</td>\n",
       "      <td>Sam Loh</td>\n",
       "      <td>William Lawandi, Angeline Yap, Vivienne Tseng,...</td>\n",
       "      <td>Singapore</td>\n",
       "      <td>December 20, 2018</td>\n",
       "      <td>2015</td>\n",
       "      <td>TV-MA</td>\n",
       "      <td>82 min</td>\n",
       "      <td>International Movies, Thrillers</td>\n",
       "      <td>After seducing a philandering con man, a rebel...</td>\n",
       "    </tr>\n",
       "    <tr>\n",
       "      <th>4138</th>\n",
       "      <td>s4139</td>\n",
       "      <td>Movie</td>\n",
       "      <td>Miss J Contemplates Her Choice</td>\n",
       "      <td>Jason Lai</td>\n",
       "      <td>Kit Chan, Xiang Yun, Bobby Tonelli, Shane Pow,...</td>\n",
       "      <td>Singapore</td>\n",
       "      <td>December 20, 2018</td>\n",
       "      <td>2014</td>\n",
       "      <td>TV-MA</td>\n",
       "      <td>89 min</td>\n",
       "      <td>Dramas, International Movies, Thrillers</td>\n",
       "      <td>The life of a radio talk-show host is turned u...</td>\n",
       "    </tr>\n",
       "    <tr>\n",
       "      <th>6949</th>\n",
       "      <td>s6950</td>\n",
       "      <td>TV Show</td>\n",
       "      <td>The Truth Seekers</td>\n",
       "      <td>NaN</td>\n",
       "      <td>Chen Hanwei, Rebecca Lim, Desmond Tan, Yusuke ...</td>\n",
       "      <td>Singapore</td>\n",
       "      <td>July 1, 2017</td>\n",
       "      <td>2016</td>\n",
       "      <td>TV-MA</td>\n",
       "      <td>1 Season</td>\n",
       "      <td>Crime TV Shows, International TV Shows, TV Dramas</td>\n",
       "      <td>A veteran cop forms an agency dedicated to sol...</td>\n",
       "    </tr>\n",
       "  </tbody>\n",
       "</table>\n",
       "</div>"
      ],
      "text/plain": [
       "     show_id     type                           title       director  \\\n",
       "2093   s2094    Movie      Fakkah Fuzz: Almost Banned  Michael McKay   \n",
       "2956   s2957    Movie                       Imperfect    Steve Cheng   \n",
       "3528   s3529    Movie                       Lang Tong        Sam Loh   \n",
       "4138   s4139    Movie  Miss J Contemplates Her Choice      Jason Lai   \n",
       "6949   s6950  TV Show               The Truth Seekers            NaN   \n",
       "\n",
       "                                                   cast    country  \\\n",
       "2093                                        Fakkah Fuzz  Singapore   \n",
       "2956  Edwin Goh, Ian Fang Weijie, Phua Yida, Kimberl...  Singapore   \n",
       "3528  William Lawandi, Angeline Yap, Vivienne Tseng,...  Singapore   \n",
       "4138  Kit Chan, Xiang Yun, Bobby Tonelli, Shane Pow,...  Singapore   \n",
       "6949  Chen Hanwei, Rebecca Lim, Desmond Tan, Yusuke ...  Singapore   \n",
       "\n",
       "             date_added  release_year rating  duration  \\\n",
       "2093   January 26, 2018          2018  TV-MA    61 min   \n",
       "2956  December 20, 2018          2012  TV-MA    95 min   \n",
       "3528  December 20, 2018          2015  TV-MA    82 min   \n",
       "4138  December 20, 2018          2014  TV-MA    89 min   \n",
       "6949       July 1, 2017          2016  TV-MA  1 Season   \n",
       "\n",
       "                                              listed_in  \\\n",
       "2093                                    Stand-Up Comedy   \n",
       "2956           Action & Adventure, International Movies   \n",
       "3528                    International Movies, Thrillers   \n",
       "4138            Dramas, International Movies, Thrillers   \n",
       "6949  Crime TV Shows, International TV Shows, TV Dramas   \n",
       "\n",
       "                                            description  \n",
       "2093  Stand-up comic Fakkah Fuzz mines cross-cultura...  \n",
       "2956  After a brawl lands him in a Boys’ Home, a tee...  \n",
       "3528  After seducing a philandering con man, a rebel...  \n",
       "4138  The life of a radio talk-show host is turned u...  \n",
       "6949  A veteran cop forms an agency dedicated to sol...  "
      ]
     },
     "execution_count": 18,
     "metadata": {},
     "output_type": "execute_result"
    }
   ],
   "source": [
    "netflix[netflix[\"country\"] == \"Singapore\"]\n",
    "\n",
    "netflix[(netflix[\"country\"]==\"Singapore\") & (netflix[\"rating\"]==\"TV-MA\")]"
   ]
  },
  {
   "cell_type": "markdown",
   "metadata": {},
   "source": [
    "# DateTimes"
   ]
  },
  {
   "cell_type": "code",
   "execution_count": 22,
   "metadata": {},
   "outputs": [],
   "source": [
    "netflix[\"comp_date\"] = pd.to_datetime(netflix[\"date_added\"])\n",
    "\n",
    "from datetime import datetime as dt\n",
    "\n",
    "netflix[\"comp_date\"].fillna(dt(2020,1,1), inplace=True) #It fills the na values with 2022/01/01\n",
    "\n",
    "netflix[\"unix_time\"] = netflix[\"comp_date\"].astype(int)"
   ]
  },
  {
   "cell_type": "markdown",
   "metadata": {},
   "source": [
    "# Splitting Columns"
   ]
  },
  {
   "cell_type": "code",
   "execution_count": null,
   "metadata": {},
   "outputs": [],
   "source": [
    "netflix[[\"Date_Part_1\",\"Date_Part_2\"]] = netflix[\"date_added\"].str.split(\", \", expand= True)\n",
    "\n",
    "#Expand creates another column instead of creating a list of split elements"
   ]
  },
  {
   "cell_type": "markdown",
   "metadata": {},
   "source": [
    "# Renaming Columns"
   ]
  },
  {
   "cell_type": "code",
   "execution_count": null,
   "metadata": {},
   "outputs": [],
   "source": [
    "netflix.rename(columns={\"Date_Part_2\" : \"Year\"},inplace=True)"
   ]
  },
  {
   "cell_type": "markdown",
   "metadata": {},
   "source": [
    "# Fill NA Values"
   ]
  },
  {
   "cell_type": "code",
   "execution_count": null,
   "metadata": {},
   "outputs": [],
   "source": [
    "netflix[\"cast\"].fillna(value= \"no cast\", inplace=True)"
   ]
  },
  {
   "cell_type": "markdown",
   "metadata": {},
   "source": [
    "# GroupBy, Aggregation, and Sorting Values"
   ]
  },
  {
   "cell_type": "code",
   "execution_count": null,
   "metadata": {},
   "outputs": [],
   "source": [
    "netflix.groupby(\"country\")[\"show_id\"].count().reset_index()\n",
    "\n",
    "netflix_movies_by_group = netflix.groupby(\"country\")[\"show_id\"].count().reset_index().sort_values(by=\"show_id\",ascending=False)"
   ]
  },
  {
   "cell_type": "markdown",
   "metadata": {},
   "source": [
    "# Joins and Unions"
   ]
  },
  {
   "cell_type": "code",
   "execution_count": 24,
   "metadata": {},
   "outputs": [],
   "source": [
    "second_dataset = pd.read_csv(pwd + \"/netflix_titles_second.csv\")\n",
    "\n",
    "new_dataset = pd.concat([netflix, second_dataset])\n",
    "\n",
    "netflix_merged = pd.merge(left = new_dataset, right= netflix_movies_by_group, \n",
    "how= \"inner\", left_on= [\"country\"], right_on= [\"country\"])"
   ]
  },
  {
   "cell_type": "markdown",
   "metadata": {},
   "source": [
    "# Pivot"
   ]
  },
  {
   "cell_type": "code",
   "execution_count": null,
   "metadata": {},
   "outputs": [],
   "source": [
    "pivot_table = netflix.pivot_table(index=\"country\", columns=\"type\", values=\"show_id\",\n",
    "aggfunc='count', fill_value= 0).reset_index()"
   ]
  }
 ],
 "metadata": {
  "interpreter": {
   "hash": "d43153a7f6f33f70c205727f594579fe3c8612cd87c6164274002dbb7aa92654"
  },
  "kernelspec": {
   "display_name": "Python 3.9.5",
   "language": "python",
   "name": "python3"
  },
  "language_info": {
   "codemirror_mode": {
    "name": "ipython",
    "version": 3
   },
   "file_extension": ".py",
   "mimetype": "text/x-python",
   "name": "python",
   "nbconvert_exporter": "python",
   "pygments_lexer": "ipython3",
   "version": "3.9.5"
  },
  "orig_nbformat": 4
 },
 "nbformat": 4,
 "nbformat_minor": 2
}
